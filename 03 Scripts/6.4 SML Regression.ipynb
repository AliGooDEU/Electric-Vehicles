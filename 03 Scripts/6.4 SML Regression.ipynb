{
 "cells": [
  {
   "cell_type": "markdown",
   "id": "4f1755ea-7fa8-4fbf-a8eb-0e1165b4c42f",
   "metadata": {},
   "source": [
    "# 1. Importing libraries and data\n",
    "# 2. Data cleaning\n",
    "# 3. Data prep for regression analysis\n",
    "# 4. Regression analysis\n",
    "# 5. Bonus: Performance improvement after removing outliers"
   ]
  },
  {
   "cell_type": "markdown",
   "id": "a07f8c57-b90b-46d3-87f7-7dd176078937",
   "metadata": {},
   "source": [
    "# 1. Importing libraries and data"
   ]
  },
  {
   "cell_type": "code",
   "execution_count": 1,
   "id": "9ea5be5a-f84d-4711-9767-5f49ba4d6234",
   "metadata": {},
   "outputs": [],
   "source": [
    "#import libraries\n",
    "import pandas as pd\n",
    "import numpy as np\n",
    "import os\n",
    "import matplotlib.pyplot as plt\n",
    "import seaborn as sns\n",
    "import scipy\n",
    "import sklearn\n",
    "from sklearn.model_selection import train_test_split \n",
    "from sklearn.linear_model import LinearRegression\n",
    "from sklearn.metrics import mean_squared_error, r2_score"
   ]
  },
  {
   "cell_type": "code",
   "execution_count": 3,
   "id": "d141349c-73a2-47a6-b2b3-c0fe68487f23",
   "metadata": {},
   "outputs": [],
   "source": [
    "# This option ensures that the graphs you create are displayed within the notebook without the need to \"call\" them specifically.\n",
    "\n",
    "%matplotlib inline"
   ]
  },
  {
   "cell_type": "code",
   "execution_count": 5,
   "id": "38360ec0-f2e0-4d7b-8b4b-09bc0bfbc312",
   "metadata": {},
   "outputs": [],
   "source": [
    "# Define file path\n",
    "path = r'/Users/alison/Documents/Data Analysis - Tasks/6.1' \n",
    "# Get Electric Vehicle df\n",
    "df = pd.read_pickle(os.path.join(path, '02 Data','Prepared', 'EV_cleaner.pkl'))"
   ]
  },
  {
   "cell_type": "markdown",
   "id": "7c6cdac5-9d5f-4361-84a5-2b1776f2ffa4",
   "metadata": {},
   "source": [
    "# 2. Data cleaning"
   ]
  },
  {
   "cell_type": "code",
   "execution_count": 9,
   "id": "2a1b99ea-ed24-46fc-a6e9-f62e14150a42",
   "metadata": {},
   "outputs": [
    {
     "data": {
      "text/plain": [
       "Index(['VIN (1-10)', 'County', 'City', 'State', 'Postal Code', 'Model Year',\n",
       "       'Make', 'Model', 'Electric Vehicle Type',\n",
       "       'Clean Alternative Fuel Vehicle (CAFV) Eligibility', 'Electric Range',\n",
       "       'Base MSRP', 'DOL Vehicle ID', 'Vehicle Location', 'Electric Utility',\n",
       "       '2020 Census Tract', 'ER'],\n",
       "      dtype='object')"
      ]
     },
     "execution_count": 9,
     "metadata": {},
     "output_type": "execute_result"
    }
   ],
   "source": [
    "df.columns"
   ]
  },
  {
   "cell_type": "code",
   "execution_count": 8,
   "id": "653c52da-2964-46df-88e8-247bcb6f1fb0",
   "metadata": {},
   "outputs": [
    {
     "data": {
      "text/html": [
       "<div>\n",
       "<style scoped>\n",
       "    .dataframe tbody tr th:only-of-type {\n",
       "        vertical-align: middle;\n",
       "    }\n",
       "\n",
       "    .dataframe tbody tr th {\n",
       "        vertical-align: top;\n",
       "    }\n",
       "\n",
       "    .dataframe thead th {\n",
       "        text-align: right;\n",
       "    }\n",
       "</style>\n",
       "<table border=\"1\" class=\"dataframe\">\n",
       "  <thead>\n",
       "    <tr style=\"text-align: right;\">\n",
       "      <th></th>\n",
       "      <th>VIN (1-10)</th>\n",
       "      <th>County</th>\n",
       "      <th>City</th>\n",
       "      <th>State</th>\n",
       "      <th>Postal Code</th>\n",
       "      <th>Model Year</th>\n",
       "      <th>Make</th>\n",
       "      <th>Model</th>\n",
       "      <th>Electric Vehicle Type</th>\n",
       "      <th>Clean Alternative Fuel Vehicle (CAFV) Eligibility</th>\n",
       "      <th>Electric Range</th>\n",
       "      <th>Base MSRP</th>\n",
       "      <th>DOL Vehicle ID</th>\n",
       "      <th>Vehicle Location</th>\n",
       "      <th>Electric Utility</th>\n",
       "      <th>2020 Census Tract</th>\n",
       "      <th>ER</th>\n",
       "    </tr>\n",
       "  </thead>\n",
       "  <tbody>\n",
       "    <tr>\n",
       "      <th>0</th>\n",
       "      <td>5YJ3E1EBXK</td>\n",
       "      <td>King</td>\n",
       "      <td>Seattle</td>\n",
       "      <td>WA</td>\n",
       "      <td>98178.0</td>\n",
       "      <td>2019</td>\n",
       "      <td>TESLA</td>\n",
       "      <td>MODEL 3</td>\n",
       "      <td>Battery Electric Vehicle (BEV)</td>\n",
       "      <td>Clean Alternative Fuel Vehicle Eligible</td>\n",
       "      <td>220.0</td>\n",
       "      <td>0.0</td>\n",
       "      <td>477309682</td>\n",
       "      <td>POINT (-122.23825 47.49461)</td>\n",
       "      <td>CITY OF SEATTLE - (WA)|CITY OF TACOMA - (WA)</td>\n",
       "      <td>5.303301e+10</td>\n",
       "      <td>Long-range</td>\n",
       "    </tr>\n",
       "    <tr>\n",
       "      <th>1</th>\n",
       "      <td>5YJYGDEE3L</td>\n",
       "      <td>Kitsap</td>\n",
       "      <td>Poulsbo</td>\n",
       "      <td>WA</td>\n",
       "      <td>98370.0</td>\n",
       "      <td>2020</td>\n",
       "      <td>TESLA</td>\n",
       "      <td>MODEL Y</td>\n",
       "      <td>Battery Electric Vehicle (BEV)</td>\n",
       "      <td>Clean Alternative Fuel Vehicle Eligible</td>\n",
       "      <td>291.0</td>\n",
       "      <td>0.0</td>\n",
       "      <td>109705683</td>\n",
       "      <td>POINT (-122.64681 47.73689)</td>\n",
       "      <td>PUGET SOUND ENERGY INC</td>\n",
       "      <td>5.303509e+10</td>\n",
       "      <td>Long-range</td>\n",
       "    </tr>\n",
       "    <tr>\n",
       "      <th>2</th>\n",
       "      <td>KM8KRDAF5P</td>\n",
       "      <td>Kitsap</td>\n",
       "      <td>Olalla</td>\n",
       "      <td>WA</td>\n",
       "      <td>98359.0</td>\n",
       "      <td>2023</td>\n",
       "      <td>HYUNDAI</td>\n",
       "      <td>IONIQ 5</td>\n",
       "      <td>Battery Electric Vehicle (BEV)</td>\n",
       "      <td>Eligibility unknown as battery range has not b...</td>\n",
       "      <td>0.0</td>\n",
       "      <td>0.0</td>\n",
       "      <td>230390492</td>\n",
       "      <td>POINT (-122.54729 47.42602)</td>\n",
       "      <td>PUGET SOUND ENERGY INC</td>\n",
       "      <td>5.303509e+10</td>\n",
       "      <td>Unknown</td>\n",
       "    </tr>\n",
       "    <tr>\n",
       "      <th>3</th>\n",
       "      <td>5UXTA6C0XM</td>\n",
       "      <td>Kitsap</td>\n",
       "      <td>Seabeck</td>\n",
       "      <td>WA</td>\n",
       "      <td>98380.0</td>\n",
       "      <td>2021</td>\n",
       "      <td>BMW</td>\n",
       "      <td>X5</td>\n",
       "      <td>Plug-in Hybrid Electric Vehicle (PHEV)</td>\n",
       "      <td>Clean Alternative Fuel Vehicle Eligible</td>\n",
       "      <td>30.0</td>\n",
       "      <td>0.0</td>\n",
       "      <td>267929112</td>\n",
       "      <td>POINT (-122.81585 47.64509)</td>\n",
       "      <td>PUGET SOUND ENERGY INC</td>\n",
       "      <td>5.303509e+10</td>\n",
       "      <td>Mid-range</td>\n",
       "    </tr>\n",
       "    <tr>\n",
       "      <th>4</th>\n",
       "      <td>JTMAB3FV7P</td>\n",
       "      <td>Thurston</td>\n",
       "      <td>Rainier</td>\n",
       "      <td>WA</td>\n",
       "      <td>98576.0</td>\n",
       "      <td>2023</td>\n",
       "      <td>TOYOTA</td>\n",
       "      <td>RAV4 PRIME</td>\n",
       "      <td>Plug-in Hybrid Electric Vehicle (PHEV)</td>\n",
       "      <td>Clean Alternative Fuel Vehicle Eligible</td>\n",
       "      <td>42.0</td>\n",
       "      <td>0.0</td>\n",
       "      <td>236505139</td>\n",
       "      <td>POINT (-122.68993 46.88897)</td>\n",
       "      <td>PUGET SOUND ENERGY INC</td>\n",
       "      <td>5.306701e+10</td>\n",
       "      <td>Mid-range</td>\n",
       "    </tr>\n",
       "    <tr>\n",
       "      <th>5</th>\n",
       "      <td>5YJSA1DN0C</td>\n",
       "      <td>Thurston</td>\n",
       "      <td>Olympia</td>\n",
       "      <td>WA</td>\n",
       "      <td>98502.0</td>\n",
       "      <td>2012</td>\n",
       "      <td>TESLA</td>\n",
       "      <td>MODEL S</td>\n",
       "      <td>Battery Electric Vehicle (BEV)</td>\n",
       "      <td>Clean Alternative Fuel Vehicle Eligible</td>\n",
       "      <td>265.0</td>\n",
       "      <td>59900.0</td>\n",
       "      <td>186637195</td>\n",
       "      <td>POINT (-122.92333 47.03779)</td>\n",
       "      <td>PUGET SOUND ENERGY INC</td>\n",
       "      <td>5.306701e+10</td>\n",
       "      <td>Long-range</td>\n",
       "    </tr>\n",
       "    <tr>\n",
       "      <th>6</th>\n",
       "      <td>WBY1Z6C30H</td>\n",
       "      <td>King</td>\n",
       "      <td>Bellevue</td>\n",
       "      <td>WA</td>\n",
       "      <td>98004.0</td>\n",
       "      <td>2017</td>\n",
       "      <td>BMW</td>\n",
       "      <td>I3</td>\n",
       "      <td>Battery Electric Vehicle (BEV)</td>\n",
       "      <td>Clean Alternative Fuel Vehicle Eligible</td>\n",
       "      <td>81.0</td>\n",
       "      <td>0.0</td>\n",
       "      <td>196789610</td>\n",
       "      <td>POINT (-122.1872 47.61001)</td>\n",
       "      <td>PUGET SOUND ENERGY INC||CITY OF TACOMA - (WA)</td>\n",
       "      <td>5.303302e+10</td>\n",
       "      <td>Mid-range</td>\n",
       "    </tr>\n",
       "    <tr>\n",
       "      <th>7</th>\n",
       "      <td>3MW5P9J0XN</td>\n",
       "      <td>Snohomish</td>\n",
       "      <td>Marysville</td>\n",
       "      <td>WA</td>\n",
       "      <td>98271.0</td>\n",
       "      <td>2022</td>\n",
       "      <td>BMW</td>\n",
       "      <td>330E</td>\n",
       "      <td>Plug-in Hybrid Electric Vehicle (PHEV)</td>\n",
       "      <td>Not eligible due to low battery range</td>\n",
       "      <td>22.0</td>\n",
       "      <td>0.0</td>\n",
       "      <td>204822761</td>\n",
       "      <td>POINT (-122.1677 48.11026)</td>\n",
       "      <td>PUGET SOUND ENERGY INC</td>\n",
       "      <td>5.306105e+10</td>\n",
       "      <td>Mid-range</td>\n",
       "    </tr>\n",
       "    <tr>\n",
       "      <th>8</th>\n",
       "      <td>5YJ3E1EA6J</td>\n",
       "      <td>King</td>\n",
       "      <td>Kirkland</td>\n",
       "      <td>WA</td>\n",
       "      <td>98034.0</td>\n",
       "      <td>2018</td>\n",
       "      <td>TESLA</td>\n",
       "      <td>MODEL 3</td>\n",
       "      <td>Battery Electric Vehicle (BEV)</td>\n",
       "      <td>Clean Alternative Fuel Vehicle Eligible</td>\n",
       "      <td>215.0</td>\n",
       "      <td>0.0</td>\n",
       "      <td>2039222</td>\n",
       "      <td>POINT (-122.22901 47.72201)</td>\n",
       "      <td>PUGET SOUND ENERGY INC||CITY OF TACOMA - (WA)</td>\n",
       "      <td>5.303302e+10</td>\n",
       "      <td>Long-range</td>\n",
       "    </tr>\n",
       "    <tr>\n",
       "      <th>9</th>\n",
       "      <td>5YJ3E1EA2J</td>\n",
       "      <td>King</td>\n",
       "      <td>Redmond</td>\n",
       "      <td>WA</td>\n",
       "      <td>98052.0</td>\n",
       "      <td>2018</td>\n",
       "      <td>TESLA</td>\n",
       "      <td>MODEL 3</td>\n",
       "      <td>Battery Electric Vehicle (BEV)</td>\n",
       "      <td>Clean Alternative Fuel Vehicle Eligible</td>\n",
       "      <td>215.0</td>\n",
       "      <td>0.0</td>\n",
       "      <td>474817283</td>\n",
       "      <td>POINT (-122.13158 47.67858)</td>\n",
       "      <td>PUGET SOUND ENERGY INC||CITY OF TACOMA - (WA)</td>\n",
       "      <td>5.303303e+10</td>\n",
       "      <td>Long-range</td>\n",
       "    </tr>\n",
       "    <tr>\n",
       "      <th>10</th>\n",
       "      <td>1N4AZ0CP1E</td>\n",
       "      <td>King</td>\n",
       "      <td>Newcastle</td>\n",
       "      <td>WA</td>\n",
       "      <td>98059.0</td>\n",
       "      <td>2014</td>\n",
       "      <td>NISSAN</td>\n",
       "      <td>LEAF</td>\n",
       "      <td>Battery Electric Vehicle (BEV)</td>\n",
       "      <td>Clean Alternative Fuel Vehicle Eligible</td>\n",
       "      <td>84.0</td>\n",
       "      <td>0.0</td>\n",
       "      <td>130630342</td>\n",
       "      <td>POINT (-122.15734 47.48718)</td>\n",
       "      <td>PUGET SOUND ENERGY INC||CITY OF TACOMA - (WA)</td>\n",
       "      <td>5.303303e+10</td>\n",
       "      <td>Mid-range</td>\n",
       "    </tr>\n",
       "    <tr>\n",
       "      <th>11</th>\n",
       "      <td>5YJXCDE27L</td>\n",
       "      <td>King</td>\n",
       "      <td>Seattle</td>\n",
       "      <td>WA</td>\n",
       "      <td>98125.0</td>\n",
       "      <td>2020</td>\n",
       "      <td>TESLA</td>\n",
       "      <td>MODEL X</td>\n",
       "      <td>Battery Electric Vehicle (BEV)</td>\n",
       "      <td>Clean Alternative Fuel Vehicle Eligible</td>\n",
       "      <td>289.0</td>\n",
       "      <td>0.0</td>\n",
       "      <td>241435680</td>\n",
       "      <td>POINT (-122.30253 47.72656)</td>\n",
       "      <td>CITY OF SEATTLE - (WA)|CITY OF TACOMA - (WA)</td>\n",
       "      <td>5.303300e+10</td>\n",
       "      <td>Long-range</td>\n",
       "    </tr>\n",
       "    <tr>\n",
       "      <th>12</th>\n",
       "      <td>KNDCC3LD3K</td>\n",
       "      <td>King</td>\n",
       "      <td>Seattle</td>\n",
       "      <td>WA</td>\n",
       "      <td>98125.0</td>\n",
       "      <td>2019</td>\n",
       "      <td>KIA</td>\n",
       "      <td>NIRO</td>\n",
       "      <td>Plug-in Hybrid Electric Vehicle (PHEV)</td>\n",
       "      <td>Not eligible due to low battery range</td>\n",
       "      <td>26.0</td>\n",
       "      <td>0.0</td>\n",
       "      <td>474771398</td>\n",
       "      <td>POINT (-122.30253 47.72656)</td>\n",
       "      <td>CITY OF SEATTLE - (WA)|CITY OF TACOMA - (WA)</td>\n",
       "      <td>5.303300e+10</td>\n",
       "      <td>Mid-range</td>\n",
       "    </tr>\n",
       "    <tr>\n",
       "      <th>13</th>\n",
       "      <td>LPSED3KA8M</td>\n",
       "      <td>King</td>\n",
       "      <td>Seattle</td>\n",
       "      <td>WA</td>\n",
       "      <td>98125.0</td>\n",
       "      <td>2021</td>\n",
       "      <td>POLESTAR</td>\n",
       "      <td>PS2</td>\n",
       "      <td>Battery Electric Vehicle (BEV)</td>\n",
       "      <td>Clean Alternative Fuel Vehicle Eligible</td>\n",
       "      <td>233.0</td>\n",
       "      <td>0.0</td>\n",
       "      <td>183391526</td>\n",
       "      <td>POINT (-122.30253 47.72656)</td>\n",
       "      <td>CITY OF SEATTLE - (WA)|CITY OF TACOMA - (WA)</td>\n",
       "      <td>5.303300e+10</td>\n",
       "      <td>Long-range</td>\n",
       "    </tr>\n",
       "    <tr>\n",
       "      <th>14</th>\n",
       "      <td>5YJSA1H29F</td>\n",
       "      <td>Thurston</td>\n",
       "      <td>Olympia</td>\n",
       "      <td>WA</td>\n",
       "      <td>98506.0</td>\n",
       "      <td>2015</td>\n",
       "      <td>TESLA</td>\n",
       "      <td>MODEL S</td>\n",
       "      <td>Battery Electric Vehicle (BEV)</td>\n",
       "      <td>Clean Alternative Fuel Vehicle Eligible</td>\n",
       "      <td>208.0</td>\n",
       "      <td>0.0</td>\n",
       "      <td>241126567</td>\n",
       "      <td>POINT (-122.87741 47.05997)</td>\n",
       "      <td>PUGET SOUND ENERGY INC</td>\n",
       "      <td>5.306701e+10</td>\n",
       "      <td>Long-range</td>\n",
       "    </tr>\n",
       "    <tr>\n",
       "      <th>15</th>\n",
       "      <td>WBY7Z6C52J</td>\n",
       "      <td>King</td>\n",
       "      <td>Kent</td>\n",
       "      <td>WA</td>\n",
       "      <td>98031.0</td>\n",
       "      <td>2018</td>\n",
       "      <td>BMW</td>\n",
       "      <td>I3</td>\n",
       "      <td>Battery Electric Vehicle (BEV)</td>\n",
       "      <td>Clean Alternative Fuel Vehicle Eligible</td>\n",
       "      <td>114.0</td>\n",
       "      <td>0.0</td>\n",
       "      <td>221792728</td>\n",
       "      <td>POINT (-122.17743 47.41185)</td>\n",
       "      <td>PUGET SOUND ENERGY INC||CITY OF TACOMA - (WA)</td>\n",
       "      <td>5.303303e+10</td>\n",
       "      <td>Mid-range</td>\n",
       "    </tr>\n",
       "    <tr>\n",
       "      <th>16</th>\n",
       "      <td>1N4AZ0CP2G</td>\n",
       "      <td>Kitsap</td>\n",
       "      <td>Olalla</td>\n",
       "      <td>WA</td>\n",
       "      <td>98359.0</td>\n",
       "      <td>2016</td>\n",
       "      <td>NISSAN</td>\n",
       "      <td>LEAF</td>\n",
       "      <td>Battery Electric Vehicle (BEV)</td>\n",
       "      <td>Clean Alternative Fuel Vehicle Eligible</td>\n",
       "      <td>84.0</td>\n",
       "      <td>0.0</td>\n",
       "      <td>225541921</td>\n",
       "      <td>POINT (-122.54729 47.42602)</td>\n",
       "      <td>PUGET SOUND ENERGY INC</td>\n",
       "      <td>5.303509e+10</td>\n",
       "      <td>Mid-range</td>\n",
       "    </tr>\n",
       "    <tr>\n",
       "      <th>17</th>\n",
       "      <td>1N4AZ0CP5F</td>\n",
       "      <td>King</td>\n",
       "      <td>Issaquah</td>\n",
       "      <td>WA</td>\n",
       "      <td>98029.0</td>\n",
       "      <td>2015</td>\n",
       "      <td>NISSAN</td>\n",
       "      <td>LEAF</td>\n",
       "      <td>Battery Electric Vehicle (BEV)</td>\n",
       "      <td>Clean Alternative Fuel Vehicle Eligible</td>\n",
       "      <td>84.0</td>\n",
       "      <td>0.0</td>\n",
       "      <td>112393263</td>\n",
       "      <td>POINT (-122.00292 47.54748)</td>\n",
       "      <td>PUGET SOUND ENERGY INC||CITY OF TACOMA - (WA)</td>\n",
       "      <td>5.303303e+10</td>\n",
       "      <td>Mid-range</td>\n",
       "    </tr>\n",
       "    <tr>\n",
       "      <th>18</th>\n",
       "      <td>5UXTA6C01N</td>\n",
       "      <td>Snohomish</td>\n",
       "      <td>Edmonds</td>\n",
       "      <td>WA</td>\n",
       "      <td>98026.0</td>\n",
       "      <td>2022</td>\n",
       "      <td>BMW</td>\n",
       "      <td>X5</td>\n",
       "      <td>Plug-in Hybrid Electric Vehicle (PHEV)</td>\n",
       "      <td>Clean Alternative Fuel Vehicle Eligible</td>\n",
       "      <td>30.0</td>\n",
       "      <td>0.0</td>\n",
       "      <td>197473496</td>\n",
       "      <td>POINT (-122.31768 47.87166)</td>\n",
       "      <td>PUGET SOUND ENERGY INC</td>\n",
       "      <td>5.306105e+10</td>\n",
       "      <td>Mid-range</td>\n",
       "    </tr>\n",
       "    <tr>\n",
       "      <th>19</th>\n",
       "      <td>5YJ3E1EB5J</td>\n",
       "      <td>Yakima</td>\n",
       "      <td>Yakima</td>\n",
       "      <td>WA</td>\n",
       "      <td>98908.0</td>\n",
       "      <td>2018</td>\n",
       "      <td>TESLA</td>\n",
       "      <td>MODEL 3</td>\n",
       "      <td>Battery Electric Vehicle (BEV)</td>\n",
       "      <td>Clean Alternative Fuel Vehicle Eligible</td>\n",
       "      <td>215.0</td>\n",
       "      <td>0.0</td>\n",
       "      <td>301024209</td>\n",
       "      <td>POINT (-120.60272 46.59656)</td>\n",
       "      <td>PACIFICORP</td>\n",
       "      <td>5.307700e+10</td>\n",
       "      <td>Long-range</td>\n",
       "    </tr>\n",
       "  </tbody>\n",
       "</table>\n",
       "</div>"
      ],
      "text/plain": [
       "    VIN (1-10)     County        City State  Postal Code  Model Year  \\\n",
       "0   5YJ3E1EBXK       King     Seattle    WA      98178.0        2019   \n",
       "1   5YJYGDEE3L     Kitsap     Poulsbo    WA      98370.0        2020   \n",
       "2   KM8KRDAF5P     Kitsap      Olalla    WA      98359.0        2023   \n",
       "3   5UXTA6C0XM     Kitsap     Seabeck    WA      98380.0        2021   \n",
       "4   JTMAB3FV7P   Thurston     Rainier    WA      98576.0        2023   \n",
       "5   5YJSA1DN0C   Thurston     Olympia    WA      98502.0        2012   \n",
       "6   WBY1Z6C30H       King    Bellevue    WA      98004.0        2017   \n",
       "7   3MW5P9J0XN  Snohomish  Marysville    WA      98271.0        2022   \n",
       "8   5YJ3E1EA6J       King    Kirkland    WA      98034.0        2018   \n",
       "9   5YJ3E1EA2J       King     Redmond    WA      98052.0        2018   \n",
       "10  1N4AZ0CP1E       King   Newcastle    WA      98059.0        2014   \n",
       "11  5YJXCDE27L       King     Seattle    WA      98125.0        2020   \n",
       "12  KNDCC3LD3K       King     Seattle    WA      98125.0        2019   \n",
       "13  LPSED3KA8M       King     Seattle    WA      98125.0        2021   \n",
       "14  5YJSA1H29F   Thurston     Olympia    WA      98506.0        2015   \n",
       "15  WBY7Z6C52J       King        Kent    WA      98031.0        2018   \n",
       "16  1N4AZ0CP2G     Kitsap      Olalla    WA      98359.0        2016   \n",
       "17  1N4AZ0CP5F       King    Issaquah    WA      98029.0        2015   \n",
       "18  5UXTA6C01N  Snohomish     Edmonds    WA      98026.0        2022   \n",
       "19  5YJ3E1EB5J     Yakima      Yakima    WA      98908.0        2018   \n",
       "\n",
       "        Make       Model                   Electric Vehicle Type  \\\n",
       "0      TESLA     MODEL 3          Battery Electric Vehicle (BEV)   \n",
       "1      TESLA     MODEL Y          Battery Electric Vehicle (BEV)   \n",
       "2    HYUNDAI     IONIQ 5          Battery Electric Vehicle (BEV)   \n",
       "3        BMW          X5  Plug-in Hybrid Electric Vehicle (PHEV)   \n",
       "4     TOYOTA  RAV4 PRIME  Plug-in Hybrid Electric Vehicle (PHEV)   \n",
       "5      TESLA     MODEL S          Battery Electric Vehicle (BEV)   \n",
       "6        BMW          I3          Battery Electric Vehicle (BEV)   \n",
       "7        BMW        330E  Plug-in Hybrid Electric Vehicle (PHEV)   \n",
       "8      TESLA     MODEL 3          Battery Electric Vehicle (BEV)   \n",
       "9      TESLA     MODEL 3          Battery Electric Vehicle (BEV)   \n",
       "10    NISSAN        LEAF          Battery Electric Vehicle (BEV)   \n",
       "11     TESLA     MODEL X          Battery Electric Vehicle (BEV)   \n",
       "12       KIA        NIRO  Plug-in Hybrid Electric Vehicle (PHEV)   \n",
       "13  POLESTAR         PS2          Battery Electric Vehicle (BEV)   \n",
       "14     TESLA     MODEL S          Battery Electric Vehicle (BEV)   \n",
       "15       BMW          I3          Battery Electric Vehicle (BEV)   \n",
       "16    NISSAN        LEAF          Battery Electric Vehicle (BEV)   \n",
       "17    NISSAN        LEAF          Battery Electric Vehicle (BEV)   \n",
       "18       BMW          X5  Plug-in Hybrid Electric Vehicle (PHEV)   \n",
       "19     TESLA     MODEL 3          Battery Electric Vehicle (BEV)   \n",
       "\n",
       "    Clean Alternative Fuel Vehicle (CAFV) Eligibility  Electric Range  \\\n",
       "0             Clean Alternative Fuel Vehicle Eligible           220.0   \n",
       "1             Clean Alternative Fuel Vehicle Eligible           291.0   \n",
       "2   Eligibility unknown as battery range has not b...             0.0   \n",
       "3             Clean Alternative Fuel Vehicle Eligible            30.0   \n",
       "4             Clean Alternative Fuel Vehicle Eligible            42.0   \n",
       "5             Clean Alternative Fuel Vehicle Eligible           265.0   \n",
       "6             Clean Alternative Fuel Vehicle Eligible            81.0   \n",
       "7               Not eligible due to low battery range            22.0   \n",
       "8             Clean Alternative Fuel Vehicle Eligible           215.0   \n",
       "9             Clean Alternative Fuel Vehicle Eligible           215.0   \n",
       "10            Clean Alternative Fuel Vehicle Eligible            84.0   \n",
       "11            Clean Alternative Fuel Vehicle Eligible           289.0   \n",
       "12              Not eligible due to low battery range            26.0   \n",
       "13            Clean Alternative Fuel Vehicle Eligible           233.0   \n",
       "14            Clean Alternative Fuel Vehicle Eligible           208.0   \n",
       "15            Clean Alternative Fuel Vehicle Eligible           114.0   \n",
       "16            Clean Alternative Fuel Vehicle Eligible            84.0   \n",
       "17            Clean Alternative Fuel Vehicle Eligible            84.0   \n",
       "18            Clean Alternative Fuel Vehicle Eligible            30.0   \n",
       "19            Clean Alternative Fuel Vehicle Eligible           215.0   \n",
       "\n",
       "    Base MSRP  DOL Vehicle ID             Vehicle Location  \\\n",
       "0         0.0       477309682  POINT (-122.23825 47.49461)   \n",
       "1         0.0       109705683  POINT (-122.64681 47.73689)   \n",
       "2         0.0       230390492  POINT (-122.54729 47.42602)   \n",
       "3         0.0       267929112  POINT (-122.81585 47.64509)   \n",
       "4         0.0       236505139  POINT (-122.68993 46.88897)   \n",
       "5     59900.0       186637195  POINT (-122.92333 47.03779)   \n",
       "6         0.0       196789610   POINT (-122.1872 47.61001)   \n",
       "7         0.0       204822761   POINT (-122.1677 48.11026)   \n",
       "8         0.0         2039222  POINT (-122.22901 47.72201)   \n",
       "9         0.0       474817283  POINT (-122.13158 47.67858)   \n",
       "10        0.0       130630342  POINT (-122.15734 47.48718)   \n",
       "11        0.0       241435680  POINT (-122.30253 47.72656)   \n",
       "12        0.0       474771398  POINT (-122.30253 47.72656)   \n",
       "13        0.0       183391526  POINT (-122.30253 47.72656)   \n",
       "14        0.0       241126567  POINT (-122.87741 47.05997)   \n",
       "15        0.0       221792728  POINT (-122.17743 47.41185)   \n",
       "16        0.0       225541921  POINT (-122.54729 47.42602)   \n",
       "17        0.0       112393263  POINT (-122.00292 47.54748)   \n",
       "18        0.0       197473496  POINT (-122.31768 47.87166)   \n",
       "19        0.0       301024209  POINT (-120.60272 46.59656)   \n",
       "\n",
       "                                 Electric Utility  2020 Census Tract  \\\n",
       "0    CITY OF SEATTLE - (WA)|CITY OF TACOMA - (WA)       5.303301e+10   \n",
       "1                          PUGET SOUND ENERGY INC       5.303509e+10   \n",
       "2                          PUGET SOUND ENERGY INC       5.303509e+10   \n",
       "3                          PUGET SOUND ENERGY INC       5.303509e+10   \n",
       "4                          PUGET SOUND ENERGY INC       5.306701e+10   \n",
       "5                          PUGET SOUND ENERGY INC       5.306701e+10   \n",
       "6   PUGET SOUND ENERGY INC||CITY OF TACOMA - (WA)       5.303302e+10   \n",
       "7                          PUGET SOUND ENERGY INC       5.306105e+10   \n",
       "8   PUGET SOUND ENERGY INC||CITY OF TACOMA - (WA)       5.303302e+10   \n",
       "9   PUGET SOUND ENERGY INC||CITY OF TACOMA - (WA)       5.303303e+10   \n",
       "10  PUGET SOUND ENERGY INC||CITY OF TACOMA - (WA)       5.303303e+10   \n",
       "11   CITY OF SEATTLE - (WA)|CITY OF TACOMA - (WA)       5.303300e+10   \n",
       "12   CITY OF SEATTLE - (WA)|CITY OF TACOMA - (WA)       5.303300e+10   \n",
       "13   CITY OF SEATTLE - (WA)|CITY OF TACOMA - (WA)       5.303300e+10   \n",
       "14                         PUGET SOUND ENERGY INC       5.306701e+10   \n",
       "15  PUGET SOUND ENERGY INC||CITY OF TACOMA - (WA)       5.303303e+10   \n",
       "16                         PUGET SOUND ENERGY INC       5.303509e+10   \n",
       "17  PUGET SOUND ENERGY INC||CITY OF TACOMA - (WA)       5.303303e+10   \n",
       "18                         PUGET SOUND ENERGY INC       5.306105e+10   \n",
       "19                                     PACIFICORP       5.307700e+10   \n",
       "\n",
       "            ER  \n",
       "0   Long-range  \n",
       "1   Long-range  \n",
       "2      Unknown  \n",
       "3    Mid-range  \n",
       "4    Mid-range  \n",
       "5   Long-range  \n",
       "6    Mid-range  \n",
       "7    Mid-range  \n",
       "8   Long-range  \n",
       "9   Long-range  \n",
       "10   Mid-range  \n",
       "11  Long-range  \n",
       "12   Mid-range  \n",
       "13  Long-range  \n",
       "14  Long-range  \n",
       "15   Mid-range  \n",
       "16   Mid-range  \n",
       "17   Mid-range  \n",
       "18   Mid-range  \n",
       "19  Long-range  "
      ]
     },
     "execution_count": 8,
     "metadata": {},
     "output_type": "execute_result"
    }
   ],
   "source": [
    "df.head(20)"
   ]
  },
  {
   "cell_type": "code",
   "execution_count": 10,
   "id": "29e67963-fcb2-4940-b871-084c1340b1f2",
   "metadata": {},
   "outputs": [
    {
     "data": {
      "text/plain": [
       "(235688, 17)"
      ]
     },
     "execution_count": 10,
     "metadata": {},
     "output_type": "execute_result"
    }
   ],
   "source": [
    "df.shape"
   ]
  },
  {
   "cell_type": "code",
   "execution_count": 12,
   "id": "9446d3fd-d365-42ef-b506-1fe3f87f0cf1",
   "metadata": {},
   "outputs": [
    {
     "data": {
      "text/plain": [
       "VIN (1-10)                                           0\n",
       "County                                               0\n",
       "City                                                 0\n",
       "State                                                0\n",
       "Postal Code                                          0\n",
       "Model Year                                           0\n",
       "Make                                                 0\n",
       "Model                                                0\n",
       "Electric Vehicle Type                                0\n",
       "Clean Alternative Fuel Vehicle (CAFV) Eligibility    0\n",
       "Electric Range                                       0\n",
       "Base MSRP                                            0\n",
       "DOL Vehicle ID                                       0\n",
       "Vehicle Location                                     0\n",
       "Electric Utility                                     0\n",
       "2020 Census Tract                                    0\n",
       "ER                                                   0\n",
       "dtype: int64"
      ]
     },
     "execution_count": 12,
     "metadata": {},
     "output_type": "execute_result"
    }
   ],
   "source": [
    "# Check for missing values\n",
    "\n",
    "df.isnull().sum()\n",
    "\n",
    "# No missing values to handle"
   ]
  },
  {
   "cell_type": "code",
   "execution_count": 14,
   "id": "5947ac97-2a81-4426-934e-e314d3581e81",
   "metadata": {},
   "outputs": [],
   "source": [
    "dups = df.duplicated()"
   ]
  },
  {
   "cell_type": "code",
   "execution_count": 16,
   "id": "1514e35c-0d7c-4f81-9f19-4ca5e88a4867",
   "metadata": {},
   "outputs": [
    {
     "data": {
      "text/plain": [
       "(235688,)"
      ]
     },
     "execution_count": 16,
     "metadata": {},
     "output_type": "execute_result"
    }
   ],
   "source": [
    "dups.shape # no dups"
   ]
  },
  {
   "cell_type": "code",
   "execution_count": 20,
   "id": "4abae48f-aa9d-425f-8101-8729008db7fb",
   "metadata": {},
   "outputs": [
    {
     "name": "stdout",
     "output_type": "stream",
     "text": [
      "[-- -- -- ... -- -- --]\n"
     ]
    }
   ],
   "source": [
    "# Impute mean actual Base MSRP to replace 0 values in Base MSRP column.\n",
    "a = np.array(df['Base MSRP'])\n",
    "m = np.ma.masked_equal(a, 0) # mask = [0, 0, 0, 1, 0]\n",
    "print (m)"
   ]
  },
  {
   "cell_type": "code",
   "execution_count": 24,
   "id": "d9881c9e-5a1d-4278-91de-39c513de923d",
   "metadata": {},
   "outputs": [
    {
     "data": {
      "text/plain": [
       "31950.0"
      ]
     },
     "execution_count": 24,
     "metadata": {},
     "output_type": "execute_result"
    }
   ],
   "source": [
    "m.min()"
   ]
  },
  {
   "cell_type": "code",
   "execution_count": 30,
   "id": "82c8b3f1-5c40-4ba8-9d5f-b9f4ada40df8",
   "metadata": {},
   "outputs": [],
   "source": [
    "mean_value = m.mean()"
   ]
  },
  {
   "cell_type": "code",
   "execution_count": 32,
   "id": "7fd8a2e9-ddb6-4449-8915-35c23ba1db23",
   "metadata": {},
   "outputs": [],
   "source": [
    "# Actual mean = 57136.66473988439\n",
    "# Replace 0 values in the DataFrame with the mean\n",
    "df['Base MSRP'] = df['Base MSRP'].replace(0, mean_value)"
   ]
  },
  {
   "cell_type": "code",
   "execution_count": 35,
   "id": "b96a814e-7cf3-455f-aa80-08e8c92f7050",
   "metadata": {},
   "outputs": [
    {
     "data": {
      "text/plain": [
       "Base MSRP\n",
       "57136.66474     232401\n",
       "69900.00000       1318\n",
       "31950.00000        361\n",
       "52900.00000        215\n",
       "32250.00000        133\n",
       "59900.00000        126\n",
       "54950.00000        119\n",
       "39995.00000        117\n",
       "36900.00000        105\n",
       "44100.00000         91\n",
       "64950.00000         87\n",
       "45600.00000         79\n",
       "33950.00000         71\n",
       "52650.00000         71\n",
       "34995.00000         67\n",
       "55700.00000         57\n",
       "36800.00000         55\n",
       "53400.00000         38\n",
       "88392.00000         36\n",
       "110950.00000        21\n",
       "81100.00000         21\n",
       "98950.00000         21\n",
       "90700.00000         17\n",
       "75095.00000         13\n",
       "102000.00000        11\n",
       "184400.00000        10\n",
       "43700.00000          8\n",
       "109000.00000         7\n",
       "89100.00000          6\n",
       "91250.00000          4\n",
       "32995.00000          2\n",
       "Name: count, dtype: int64"
      ]
     },
     "execution_count": 35,
     "metadata": {},
     "output_type": "execute_result"
    }
   ],
   "source": [
    "df['Base MSRP'].value_counts(dropna=False)"
   ]
  },
  {
   "cell_type": "code",
   "execution_count": 37,
   "id": "518874dc-52bb-41a3-91fb-b190a800f34c",
   "metadata": {},
   "outputs": [],
   "source": [
    "# Export new df\n",
    "# Export data to pkl\n",
    "df.to_pickle(os.path.join(path, '02 Data','Prepared', 'EV_with_mean.pkl'))"
   ]
  },
  {
   "cell_type": "code",
   "execution_count": 7,
   "id": "1ad38aa1-c76e-46de-8002-11907e8369f1",
   "metadata": {},
   "outputs": [],
   "source": [
    "# Get Electric Vehicle df\n",
    "df = pd.read_pickle(os.path.join(path, '02 Data','Prepared', 'EV_with_mean.pkl'))"
   ]
  },
  {
   "cell_type": "code",
   "execution_count": 9,
   "id": "53cdb106-1ea9-4d9c-83ef-b9d4405b75fe",
   "metadata": {},
   "outputs": [
    {
     "data": {
      "text/plain": [
       "(235688, 17)"
      ]
     },
     "execution_count": 9,
     "metadata": {},
     "output_type": "execute_result"
    }
   ],
   "source": [
    "df.shape"
   ]
  },
  {
   "cell_type": "code",
   "execution_count": 11,
   "id": "26f9c938-3521-416b-bc6d-989ef8ce9f20",
   "metadata": {},
   "outputs": [
    {
     "data": {
      "text/plain": [
       "Base MSRP\n",
       "57136.66474     232401\n",
       "69900.00000       1318\n",
       "31950.00000        361\n",
       "52900.00000        215\n",
       "32250.00000        133\n",
       "59900.00000        126\n",
       "54950.00000        119\n",
       "39995.00000        117\n",
       "36900.00000        105\n",
       "44100.00000         91\n",
       "64950.00000         87\n",
       "45600.00000         79\n",
       "33950.00000         71\n",
       "52650.00000         71\n",
       "34995.00000         67\n",
       "55700.00000         57\n",
       "36800.00000         55\n",
       "53400.00000         38\n",
       "88392.00000         36\n",
       "110950.00000        21\n",
       "81100.00000         21\n",
       "98950.00000         21\n",
       "90700.00000         17\n",
       "75095.00000         13\n",
       "102000.00000        11\n",
       "184400.00000        10\n",
       "43700.00000          8\n",
       "109000.00000         7\n",
       "89100.00000          6\n",
       "91250.00000          4\n",
       "32995.00000          2\n",
       "Name: count, dtype: int64"
      ]
     },
     "execution_count": 11,
     "metadata": {},
     "output_type": "execute_result"
    }
   ],
   "source": [
    "df['Base MSRP'].value_counts(dropna=False)"
   ]
  },
  {
   "cell_type": "markdown",
   "id": "b29e3b3a-efc6-4186-a704-8087461b0766",
   "metadata": {},
   "source": [
    "# 3. Data prep for regression analysis"
   ]
  },
  {
   "cell_type": "code",
   "execution_count": 13,
   "id": "c1cbf6c1-26f1-4a38-a430-efea3b173f14",
   "metadata": {},
   "outputs": [
    {
     "name": "stderr",
     "output_type": "stream",
     "text": [
      "/var/folders/jw/8t4p8wwd697952d93tqmdh180000gp/T/ipykernel_29986/3269510218.py:1: UserWarning: \n",
      "\n",
      "`distplot` is a deprecated function and will be removed in seaborn v0.14.0.\n",
      "\n",
      "Please adapt your code to use either `displot` (a figure-level function with\n",
      "similar flexibility) or `histplot` (an axes-level function for histograms).\n",
      "\n",
      "For a guide to updating your code to use the new functions, please see\n",
      "https://gist.github.com/mwaskom/de44147ed2974457ad6372750bbe5751\n",
      "\n",
      "  sns.distplot(df['Base MSRP'], bins=25) # Shows extreme values\n"
     ]
    },
    {
     "data": {
      "text/plain": [
       "<Axes: xlabel='Base MSRP', ylabel='Density'>"
      ]
     },
     "execution_count": 13,
     "metadata": {},
     "output_type": "execute_result"
    }
   ],
   "source": [
    "sns.distplot(df['Base MSRP'], bins=25) # Shows extreme values\n",
    "\n",
    "# Some of the outliers in the high values may need to be removed, but let's try without doing so first."
   ]
  },
  {
   "cell_type": "code",
   "execution_count": 41,
   "id": "10dfc8e5-7961-40d1-9bf6-8cdedacb6e1c",
   "metadata": {},
   "outputs": [
    {
     "data": {
      "image/png": "[encoded data removed]",
      "text/plain": [
       "<Figure size 640x480 with 1 Axes>"
      ]
     },
     "metadata": {},
     "output_type": "display_data"
    }
   ],
   "source": [
    "plt.show()"
   ]
  },
  {
   "cell_type": "code",
   "execution_count": 51,
   "id": "974403db-b525-4568-9cf6-93689fb223d7",
   "metadata": {},
   "outputs": [
    {
     "data": {
      "text/plain": [
       "57136.664739884414"
      ]
     },
     "execution_count": 51,
     "metadata": {},
     "output_type": "execute_result"
    }
   ],
   "source": [
    "df['Base MSRP'].mean() # Check the mean"
   ]
  },
  {
   "cell_type": "code",
   "execution_count": 53,
   "id": "2b97aa8d-17c7-4be1-bf07-42702c9c24e9",
   "metadata": {},
   "outputs": [
    {
     "data": {
      "text/plain": [
       "57136.66473988439"
      ]
     },
     "execution_count": 53,
     "metadata": {},
     "output_type": "execute_result"
    }
   ],
   "source": [
    "df['Base MSRP'].median() # Check the median"
   ]
  },
  {
   "cell_type": "code",
   "execution_count": 55,
   "id": "5e5236ff-b20e-4369-9386-f0f8c8af9635",
   "metadata": {},
   "outputs": [
    {
     "data": {
      "text/plain": [
       "184400.0"
      ]
     },
     "execution_count": 55,
     "metadata": {},
     "output_type": "execute_result"
    }
   ],
   "source": [
    "df['Base MSRP'].max() # Check the max"
   ]
  },
  {
   "cell_type": "code",
   "execution_count": 15,
   "id": "3b654298-83df-4b14-94a8-36fcdd76ae44",
   "metadata": {},
   "outputs": [
    {
     "name": "stderr",
     "output_type": "stream",
     "text": [
      "/var/folders/jw/8t4p8wwd697952d93tqmdh180000gp/T/ipykernel_29986/4013865130.py:1: UserWarning: \n",
      "\n",
      "`distplot` is a deprecated function and will be removed in seaborn v0.14.0.\n",
      "\n",
      "Please adapt your code to use either `displot` (a figure-level function with\n",
      "similar flexibility) or `histplot` (an axes-level function for histograms).\n",
      "\n",
      "For a guide to updating your code to use the new functions, please see\n",
      "https://gist.github.com/mwaskom/de44147ed2974457ad6372750bbe5751\n",
      "\n",
      "  sns.distplot(df['Electric Range'], bins=25) # Shows extreme values\n"
     ]
    },
    {
     "data": {
      "text/plain": [
       "<Axes: xlabel='Electric Range', ylabel='Density'>"
      ]
     },
     "execution_count": 15,
     "metadata": {},
     "output_type": "execute_result"
    }
   ],
   "source": [
    "sns.distplot(df['Electric Range'], bins=25) # Shows extreme values\n",
    "\n",
    "# Some of the outliers in the high values may need to be removed, but let's try without doing so first."
   ]
  },
  {
   "cell_type": "code",
   "execution_count": 39,
   "id": "f3556ca2-0819-4c7c-94f1-59cb2c2a7fcd",
   "metadata": {},
   "outputs": [
    {
     "data": {
      "image/png": "[encoded data removed]",
      "text/plain": [
       "<Figure size 640x480 with 1 Axes>"
      ]
     },
     "metadata": {},
     "output_type": "display_data"
    }
   ],
   "source": [
    "plt.show()"
   ]
  },
  {
   "cell_type": "code",
   "execution_count": 17,
   "id": "a0792a54-f882-4da8-b901-fdacb8511c23",
   "metadata": {},
   "outputs": [],
   "source": [
    "# Create subset without unknown ER to exclude cases where range is unknown (coded as 0)\n",
    "Known = df[df['ER'] != 'Unknown']"
   ]
  },
  {
   "cell_type": "code",
   "execution_count": 19,
   "id": "a63467fe-5aa7-4e3e-9ade-d5614bd9c6f5",
   "metadata": {},
   "outputs": [
    {
     "data": {
      "text/plain": [
       "(95928, 17)"
      ]
     },
     "execution_count": 19,
     "metadata": {},
     "output_type": "execute_result"
    }
   ],
   "source": [
    "Known.shape #large enough for project!"
   ]
  },
  {
   "cell_type": "code",
   "execution_count": 21,
   "id": "ba62ba0d-1d99-458e-8c8d-6df7502ac3f9",
   "metadata": {},
   "outputs": [
    {
     "data": {
      "text/plain": [
       "Electric Range\n",
       "215.0    6403\n",
       "32.0     5417\n",
       "25.0     4668\n",
       "21.0     4574\n",
       "238.0    4262\n",
       "         ... \n",
       "51.0        5\n",
       "11.0        4\n",
       "95.0        3\n",
       "57.0        2\n",
       "45.0        1\n",
       "Name: count, Length: 109, dtype: int64"
      ]
     },
     "execution_count": 21,
     "metadata": {},
     "output_type": "execute_result"
    }
   ],
   "source": [
    "Known['Electric Range'].value_counts(dropna=False)"
   ]
  },
  {
   "cell_type": "code",
   "execution_count": 23,
   "id": "7d0ce9ca-19ca-4c23-a407-ca5d90d614bb",
   "metadata": {},
   "outputs": [
    {
     "data": {
      "image/png": "[encoded data removed]",
      "text/plain": [
       "<Figure size 640x480 with 1 Axes>"
      ]
     },
     "metadata": {},
     "output_type": "display_data"
    },
    {
     "data": {
      "image/png": "[encoded data removed]",
      "text/plain": [
       "<Figure size 640x480 with 1 Axes>"
      ]
     },
     "metadata": {},
     "output_type": "display_data"
    }
   ],
   "source": [
    "# Hypothesis the higher the Base MSRP, the longer the Electric Range\n",
    "# Create a scatterplot using matplotlib for another look at how the chosen variables plot against each other.\n",
    "\n",
    "Known.plot(x = 'Base MSRP', y='Electric Range',style='o') # The style option creates a scatterplot; without it, we only have lines.\n",
    "plt.title('Base MSRP vs Electric Range')  \n",
    "plt.xlabel('Base MSRP')  \n",
    "plt.ylabel('Range in Miles')  \n",
    "plt.show()"
   ]
  },
  {
   "cell_type": "code",
   "execution_count": 25,
   "id": "40828759-e779-40f6-9404-9cb3d9322f90",
   "metadata": {},
   "outputs": [],
   "source": [
    "# Looks super random outside of imputed mean values\n",
    "# Reshape the variables into NumPy arrays and put them into separate objects.\n",
    "\n",
    "X = Known['Base MSRP'].values.reshape(-1,1)\n",
    "y = Known['Electric Range'].values.reshape(-1,1)"
   ]
  },
  {
   "cell_type": "code",
   "execution_count": 27,
   "id": "81ae0042-a416-43b3-b556-3f859dbf0924",
   "metadata": {},
   "outputs": [
    {
     "data": {
      "text/plain": [
       "array([[57136.66473988],\n",
       "       [57136.66473988],\n",
       "       [57136.66473988],\n",
       "       ...,\n",
       "       [57136.66473988],\n",
       "       [57136.66473988],\n",
       "       [57136.66473988]])"
      ]
     },
     "execution_count": 27,
     "metadata": {},
     "output_type": "execute_result"
    }
   ],
   "source": [
    "X"
   ]
  },
  {
   "cell_type": "code",
   "execution_count": 29,
   "id": "553f588f-5976-4b05-b326-26b0ce9261c7",
   "metadata": {},
   "outputs": [
    {
     "data": {
      "text/plain": [
       "array([[220.],\n",
       "       [291.],\n",
       "       [ 30.],\n",
       "       ...,\n",
       "       [ 21.],\n",
       "       [249.],\n",
       "       [ 19.]])"
      ]
     },
     "execution_count": 29,
     "metadata": {},
     "output_type": "execute_result"
    }
   ],
   "source": [
    "y"
   ]
  },
  {
   "cell_type": "code",
   "execution_count": 31,
   "id": "2610f3d5-e435-463b-99ce-83576cbd8cde",
   "metadata": {},
   "outputs": [],
   "source": [
    "# Split data into a training set and a test set.\n",
    "\n",
    "X_train, X_test, y_train, y_test = train_test_split(X, y, test_size=0.3, random_state=0)"
   ]
  },
  {
   "cell_type": "code",
   "execution_count": 33,
   "id": "d562dc14-e14c-4e2a-95d9-618472f1cc57",
   "metadata": {},
   "outputs": [],
   "source": [
    "# Create a regression object.\n",
    "\n",
    "regression = LinearRegression()  # This is the regression object, which will be fit onto the training set."
   ]
  },
  {
   "cell_type": "markdown",
   "id": "fb7081bb-5347-4d20-ac4f-1c212012042f",
   "metadata": {},
   "source": [
    "# 4. Regression analysis"
   ]
  },
  {
   "cell_type": "code",
   "execution_count": 35,
   "id": "c6661bb1-960d-4c61-8c89-04ff45939f46",
   "metadata": {},
   "outputs": [
    {
     "data": {
      "text/html": [
       "<style>#sk-container-id-1 {\n",
       "  /* Definition of color scheme common for light and dark mode */\n",
       "  --sklearn-color-text: #000;\n",
       "  --sklearn-color-text-muted: #666;\n",
       "  --sklearn-color-line: gray;\n",
       "  /* Definition of color scheme for unfitted estimators */\n",
       "  --sklearn-color-unfitted-level-0: #fff5e6;\n",
       "  --sklearn-color-unfitted-level-1: #f6e4d2;\n",
       "  --sklearn-color-unfitted-level-2: #ffe0b3;\n",
       "  --sklearn-color-unfitted-level-3: chocolate;\n",
       "  /* Definition of color scheme for fitted estimators */\n",
       "  --sklearn-color-fitted-level-0: #f0f8ff;\n",
       "  --sklearn-color-fitted-level-1: #d4ebff;\n",
       "  --sklearn-color-fitted-level-2: #b3dbfd;\n",
       "  --sklearn-color-fitted-level-3: cornflowerblue;\n",
       "\n",
       "  /* Specific color for light theme */\n",
       "  --sklearn-color-text-on-default-background: var(--sg-text-color, var(--theme-code-foreground, var(--jp-content-font-color1, black)));\n",
       "  --sklearn-color-background: var(--sg-background-color, var(--theme-background, var(--jp-layout-color0, white)));\n",
       "  --sklearn-color-border-box: var(--sg-text-color, var(--theme-code-foreground, var(--jp-content-font-color1, black)));\n",
       "  --sklearn-color-icon: #696969;\n",
       "\n",
       "  @media (prefers-color-scheme: dark) {\n",
       "    /* Redefinition of color scheme for dark theme */\n",
       "    --sklearn-color-text-on-default-background: var(--sg-text-color, var(--theme-code-foreground, var(--jp-content-font-color1, white)));\n",
       "    --sklearn-color-background: var(--sg-background-color, var(--theme-background, var(--jp-layout-color0, #111)));\n",
       "    --sklearn-color-border-box: var(--sg-text-color, var(--theme-code-foreground, var(--jp-content-font-color1, white)));\n",
       "    --sklearn-color-icon: #878787;\n",
       "  }\n",
       "}\n",
       "\n",
       "#sk-container-id-1 {\n",
       "  color: var(--sklearn-color-text);\n",
       "}\n",
       "\n",
       "#sk-container-id-1 pre {\n",
       "  padding: 0;\n",
       "}\n",
       "\n",
       "#sk-container-id-1 input.sk-hidden--visually {\n",
       "  border: 0;\n",
       "  clip: rect(1px 1px 1px 1px);\n",
       "  clip: rect(1px, 1px, 1px, 1px);\n",
       "  height: 1px;\n",
       "  margin: -1px;\n",
       "  overflow: hidden;\n",
       "  padding: 0;\n",
       "  position: absolute;\n",
       "  width: 1px;\n",
       "}\n",
       "\n",
       "#sk-container-id-1 div.sk-dashed-wrapped {\n",
       "  border: 1px dashed var(--sklearn-color-line);\n",
       "  margin: 0 0.4em 0.5em 0.4em;\n",
       "  box-sizing: border-box;\n",
       "  padding-bottom: 0.4em;\n",
       "  background-color: var(--sklearn-color-background);\n",
       "}\n",
       "\n",
       "#sk-container-id-1 div.sk-container {\n",
       "  /* jupyter's `normalize.less` sets `[hidden] { display: none; }`\n",
       "     but bootstrap.min.css set `[hidden] { display: none !important; }`\n",
       "     so we also need the `!important` here to be able to override the\n",
       "     default hidden behavior on the sphinx rendered scikit-learn.org.\n",
       "     See: https://github.com/scikit-learn/scikit-learn/issues/21755 */\n",
       "  display: inline-block !important;\n",
       "  position: relative;\n",
       "}\n",
       "\n",
       "#sk-container-id-1 div.sk-text-repr-fallback {\n",
       "  display: none;\n",
       "}\n",
       "\n",
       "div.sk-parallel-item,\n",
       "div.sk-serial,\n",
       "div.sk-item {\n",
       "  /* draw centered vertical line to link estimators */\n",
       "  background-image: linear-gradient(var(--sklearn-color-text-on-default-background), var(--sklearn-color-text-on-default-background));\n",
       "  background-size: 2px 100%;\n",
       "  background-repeat: no-repeat;\n",
       "  background-position: center center;\n",
       "}\n",
       "\n",
       "/* Parallel-specific style estimator block */\n",
       "\n",
       "#sk-container-id-1 div.sk-parallel-item::after {\n",
       "  content: \"\";\n",
       "  width: 100%;\n",
       "  border-bottom: 2px solid var(--sklearn-color-text-on-default-background);\n",
       "  flex-grow: 1;\n",
       "}\n",
       "\n",
       "#sk-container-id-1 div.sk-parallel {\n",
       "  display: flex;\n",
       "  align-items: stretch;\n",
       "  justify-content: center;\n",
       "  background-color: var(--sklearn-color-background);\n",
       "  position: relative;\n",
       "}\n",
       "\n",
       "#sk-container-id-1 div.sk-parallel-item {\n",
       "  display: flex;\n",
       "  flex-direction: column;\n",
       "}\n",
       "\n",
       "#sk-container-id-1 div.sk-parallel-item:first-child::after {\n",
       "  align-self: flex-end;\n",
       "  width: 50%;\n",
       "}\n",
       "\n",
       "#sk-container-id-1 div.sk-parallel-item:last-child::after {\n",
       "  align-self: flex-start;\n",
       "  width: 50%;\n",
       "}\n",
       "\n",
       "#sk-container-id-1 div.sk-parallel-item:only-child::after {\n",
       "  width: 0;\n",
       "}\n",
       "\n",
       "/* Serial-specific style estimator block */\n",
       "\n",
       "#sk-container-id-1 div.sk-serial {\n",
       "  display: flex;\n",
       "  flex-direction: column;\n",
       "  align-items: center;\n",
       "  background-color: var(--sklearn-color-background);\n",
       "  padding-right: 1em;\n",
       "  padding-left: 1em;\n",
       "}\n",
       "\n",
       "\n",
       "/* Toggleable style: style used for estimator/Pipeline/ColumnTransformer box that is\n",
       "clickable and can be expanded/collapsed.\n",
       "- Pipeline and ColumnTransformer use this feature and define the default style\n",
       "- Estimators will overwrite some part of the style using the `sk-estimator` class\n",
       "*/\n",
       "\n",
       "/* Pipeline and ColumnTransformer style (default) */\n",
       "\n",
       "#sk-container-id-1 div.sk-toggleable {\n",
       "  /* Default theme specific background. It is overwritten whether we have a\n",
       "  specific estimator or a Pipeline/ColumnTransformer */\n",
       "  background-color: var(--sklearn-color-background);\n",
       "}\n",
       "\n",
       "/* Toggleable label */\n",
       "#sk-container-id-1 label.sk-toggleable__label {\n",
       "  cursor: pointer;\n",
       "  display: flex;\n",
       "  width: 100%;\n",
       "  margin-bottom: 0;\n",
       "  padding: 0.5em;\n",
       "  box-sizing: border-box;\n",
       "  text-align: center;\n",
       "  align-items: start;\n",
       "  justify-content: space-between;\n",
       "  gap: 0.5em;\n",
       "}\n",
       "\n",
       "#sk-container-id-1 label.sk-toggleable__label .caption {\n",
       "  font-size: 0.6rem;\n",
       "  font-weight: lighter;\n",
       "  color: var(--sklearn-color-text-muted);\n",
       "}\n",
       "\n",
       "#sk-container-id-1 label.sk-toggleable__label-arrow:before {\n",
       "  /* Arrow on the left of the label */\n",
       "  content: \"▸\";\n",
       "  float: left;\n",
       "  margin-right: 0.25em;\n",
       "  color: var(--sklearn-color-icon);\n",
       "}\n",
       "\n",
       "#sk-container-id-1 label.sk-toggleable__label-arrow:hover:before {\n",
       "  color: var(--sklearn-color-text);\n",
       "}\n",
       "\n",
       "/* Toggleable content - dropdown */\n",
       "\n",
       "#sk-container-id-1 div.sk-toggleable__content {\n",
       "  max-height: 0;\n",
       "  max-width: 0;\n",
       "  overflow: hidden;\n",
       "  text-align: left;\n",
       "  /* unfitted */\n",
       "  background-color: var(--sklearn-color-unfitted-level-0);\n",
       "}\n",
       "\n",
       "#sk-container-id-1 div.sk-toggleable__content.fitted {\n",
       "  /* fitted */\n",
       "  background-color: var(--sklearn-color-fitted-level-0);\n",
       "}\n",
       "\n",
       "#sk-container-id-1 div.sk-toggleable__content pre {\n",
       "  margin: 0.2em;\n",
       "  border-radius: 0.25em;\n",
       "  color: var(--sklearn-color-text);\n",
       "  /* unfitted */\n",
       "  background-color: var(--sklearn-color-unfitted-level-0);\n",
       "}\n",
       "\n",
       "#sk-container-id-1 div.sk-toggleable__content.fitted pre {\n",
       "  /* unfitted */\n",
       "  background-color: var(--sklearn-color-fitted-level-0);\n",
       "}\n",
       "\n",
       "#sk-container-id-1 input.sk-toggleable__control:checked~div.sk-toggleable__content {\n",
       "  /* Expand drop-down */\n",
       "  max-height: 200px;\n",
       "  max-width: 100%;\n",
       "  overflow: auto;\n",
       "}\n",
       "\n",
       "#sk-container-id-1 input.sk-toggleable__control:checked~label.sk-toggleable__label-arrow:before {\n",
       "  content: \"▾\";\n",
       "}\n",
       "\n",
       "/* Pipeline/ColumnTransformer-specific style */\n",
       "\n",
       "#sk-container-id-1 div.sk-label input.sk-toggleable__control:checked~label.sk-toggleable__label {\n",
       "  color: var(--sklearn-color-text);\n",
       "  background-color: var(--sklearn-color-unfitted-level-2);\n",
       "}\n",
       "\n",
       "#sk-container-id-1 div.sk-label.fitted input.sk-toggleable__control:checked~label.sk-toggleable__label {\n",
       "  background-color: var(--sklearn-color-fitted-level-2);\n",
       "}\n",
       "\n",
       "/* Estimator-specific style */\n",
       "\n",
       "/* Colorize estimator box */\n",
       "#sk-container-id-1 div.sk-estimator input.sk-toggleable__control:checked~label.sk-toggleable__label {\n",
       "  /* unfitted */\n",
       "  background-color: var(--sklearn-color-unfitted-level-2);\n",
       "}\n",
       "\n",
       "#sk-container-id-1 div.sk-estimator.fitted input.sk-toggleable__control:checked~label.sk-toggleable__label {\n",
       "  /* fitted */\n",
       "  background-color: var(--sklearn-color-fitted-level-2);\n",
       "}\n",
       "\n",
       "#sk-container-id-1 div.sk-label label.sk-toggleable__label,\n",
       "#sk-container-id-1 div.sk-label label {\n",
       "  /* The background is the default theme color */\n",
       "  color: var(--sklearn-color-text-on-default-background);\n",
       "}\n",
       "\n",
       "/* On hover, darken the color of the background */\n",
       "#sk-container-id-1 div.sk-label:hover label.sk-toggleable__label {\n",
       "  color: var(--sklearn-color-text);\n",
       "  background-color: var(--sklearn-color-unfitted-level-2);\n",
       "}\n",
       "\n",
       "/* Label box, darken color on hover, fitted */\n",
       "#sk-container-id-1 div.sk-label.fitted:hover label.sk-toggleable__label.fitted {\n",
       "  color: var(--sklearn-color-text);\n",
       "  background-color: var(--sklearn-color-fitted-level-2);\n",
       "}\n",
       "\n",
       "/* Estimator label */\n",
       "\n",
       "#sk-container-id-1 div.sk-label label {\n",
       "  font-family: monospace;\n",
       "  font-weight: bold;\n",
       "  display: inline-block;\n",
       "  line-height: 1.2em;\n",
       "}\n",
       "\n",
       "#sk-container-id-1 div.sk-label-container {\n",
       "  text-align: center;\n",
       "}\n",
       "\n",
       "/* Estimator-specific */\n",
       "#sk-container-id-1 div.sk-estimator {\n",
       "  font-family: monospace;\n",
       "  border: 1px dotted var(--sklearn-color-border-box);\n",
       "  border-radius: 0.25em;\n",
       "  box-sizing: border-box;\n",
       "  margin-bottom: 0.5em;\n",
       "  /* unfitted */\n",
       "  background-color: var(--sklearn-color-unfitted-level-0);\n",
       "}\n",
       "\n",
       "#sk-container-id-1 div.sk-estimator.fitted {\n",
       "  /* fitted */\n",
       "  background-color: var(--sklearn-color-fitted-level-0);\n",
       "}\n",
       "\n",
       "/* on hover */\n",
       "#sk-container-id-1 div.sk-estimator:hover {\n",
       "  /* unfitted */\n",
       "  background-color: var(--sklearn-color-unfitted-level-2);\n",
       "}\n",
       "\n",
       "#sk-container-id-1 div.sk-estimator.fitted:hover {\n",
       "  /* fitted */\n",
       "  background-color: var(--sklearn-color-fitted-level-2);\n",
       "}\n",
       "\n",
       "/* Specification for estimator info (e.g. \"i\" and \"?\") */\n",
       "\n",
       "/* Common style for \"i\" and \"?\" */\n",
       "\n",
       ".sk-estimator-doc-link,\n",
       "a:link.sk-estimator-doc-link,\n",
       "a:visited.sk-estimator-doc-link {\n",
       "  float: right;\n",
       "  font-size: smaller;\n",
       "  line-height: 1em;\n",
       "  font-family: monospace;\n",
       "  background-color: var(--sklearn-color-background);\n",
       "  border-radius: 1em;\n",
       "  height: 1em;\n",
       "  width: 1em;\n",
       "  text-decoration: none !important;\n",
       "  margin-left: 0.5em;\n",
       "  text-align: center;\n",
       "  /* unfitted */\n",
       "  border: var(--sklearn-color-unfitted-level-1) 1pt solid;\n",
       "  color: var(--sklearn-color-unfitted-level-1);\n",
       "}\n",
       "\n",
       ".sk-estimator-doc-link.fitted,\n",
       "a:link.sk-estimator-doc-link.fitted,\n",
       "a:visited.sk-estimator-doc-link.fitted {\n",
       "  /* fitted */\n",
       "  border: var(--sklearn-color-fitted-level-1) 1pt solid;\n",
       "  color: var(--sklearn-color-fitted-level-1);\n",
       "}\n",
       "\n",
       "/* On hover */\n",
       "div.sk-estimator:hover .sk-estimator-doc-link:hover,\n",
       ".sk-estimator-doc-link:hover,\n",
       "div.sk-label-container:hover .sk-estimator-doc-link:hover,\n",
       ".sk-estimator-doc-link:hover {\n",
       "  /* unfitted */\n",
       "  background-color: var(--sklearn-color-unfitted-level-3);\n",
       "  color: var(--sklearn-color-background);\n",
       "  text-decoration: none;\n",
       "}\n",
       "\n",
       "div.sk-estimator.fitted:hover .sk-estimator-doc-link.fitted:hover,\n",
       ".sk-estimator-doc-link.fitted:hover,\n",
       "div.sk-label-container:hover .sk-estimator-doc-link.fitted:hover,\n",
       ".sk-estimator-doc-link.fitted:hover {\n",
       "  /* fitted */\n",
       "  background-color: var(--sklearn-color-fitted-level-3);\n",
       "  color: var(--sklearn-color-background);\n",
       "  text-decoration: none;\n",
       "}\n",
       "\n",
       "/* Span, style for the box shown on hovering the info icon */\n",
       ".sk-estimator-doc-link span {\n",
       "  display: none;\n",
       "  z-index: 9999;\n",
       "  position: relative;\n",
       "  font-weight: normal;\n",
       "  right: .2ex;\n",
       "  padding: .5ex;\n",
       "  margin: .5ex;\n",
       "  width: min-content;\n",
       "  min-width: 20ex;\n",
       "  max-width: 50ex;\n",
       "  color: var(--sklearn-color-text);\n",
       "  box-shadow: 2pt 2pt 4pt #999;\n",
       "  /* unfitted */\n",
       "  background: var(--sklearn-color-unfitted-level-0);\n",
       "  border: .5pt solid var(--sklearn-color-unfitted-level-3);\n",
       "}\n",
       "\n",
       ".sk-estimator-doc-link.fitted span {\n",
       "  /* fitted */\n",
       "  background: var(--sklearn-color-fitted-level-0);\n",
       "  border: var(--sklearn-color-fitted-level-3);\n",
       "}\n",
       "\n",
       ".sk-estimator-doc-link:hover span {\n",
       "  display: block;\n",
       "}\n",
       "\n",
       "/* \"?\"-specific style due to the `<a>` HTML tag */\n",
       "\n",
       "#sk-container-id-1 a.estimator_doc_link {\n",
       "  float: right;\n",
       "  font-size: 1rem;\n",
       "  line-height: 1em;\n",
       "  font-family: monospace;\n",
       "  background-color: var(--sklearn-color-background);\n",
       "  border-radius: 1rem;\n",
       "  height: 1rem;\n",
       "  width: 1rem;\n",
       "  text-decoration: none;\n",
       "  /* unfitted */\n",
       "  color: var(--sklearn-color-unfitted-level-1);\n",
       "  border: var(--sklearn-color-unfitted-level-1) 1pt solid;\n",
       "}\n",
       "\n",
       "#sk-container-id-1 a.estimator_doc_link.fitted {\n",
       "  /* fitted */\n",
       "  border: var(--sklearn-color-fitted-level-1) 1pt solid;\n",
       "  color: var(--sklearn-color-fitted-level-1);\n",
       "}\n",
       "\n",
       "/* On hover */\n",
       "#sk-container-id-1 a.estimator_doc_link:hover {\n",
       "  /* unfitted */\n",
       "  background-color: var(--sklearn-color-unfitted-level-3);\n",
       "  color: var(--sklearn-color-background);\n",
       "  text-decoration: none;\n",
       "}\n",
       "\n",
       "#sk-container-id-1 a.estimator_doc_link.fitted:hover {\n",
       "  /* fitted */\n",
       "  background-color: var(--sklearn-color-fitted-level-3);\n",
       "}\n",
       "</style><div id=\"sk-container-id-1\" class=\"sk-top-container\"><div class=\"sk-text-repr-fallback\"><pre>LinearRegression()</pre><b>In a Jupyter environment, please rerun this cell to show the HTML representation or trust the notebook. <br />On GitHub, the HTML representation is unable to render, please try loading this page with nbviewer.org.</b></div><div class=\"sk-container\" hidden><div class=\"sk-item\"><div class=\"sk-estimator fitted sk-toggleable\"><input class=\"sk-toggleable__control sk-hidden--visually\" id=\"sk-estimator-id-1\" type=\"checkbox\" checked><label for=\"sk-estimator-id-1\" class=\"sk-toggleable__label fitted sk-toggleable__label-arrow\"><div><div>LinearRegression</div></div><div><a class=\"sk-estimator-doc-link fitted\" rel=\"noreferrer\" target=\"_blank\" href=\"https://scikit-learn.org/1.6/modules/generated/sklearn.linear_model.LinearRegression.html\">?<span>Documentation for LinearRegression</span></a><span class=\"sk-estimator-doc-link fitted\">i<span>Fitted</span></span></div></label><div class=\"sk-toggleable__content fitted\"><pre>LinearRegression()</pre></div> </div></div></div></div>"
      ],
      "text/plain": [
       "LinearRegression()"
      ]
     },
     "execution_count": 35,
     "metadata": {},
     "output_type": "execute_result"
    }
   ],
   "source": [
    "# Fit the regression object onto the training set.\n",
    "\n",
    "regression.fit(X_train, y_train)"
   ]
  },
  {
   "cell_type": "code",
   "execution_count": 37,
   "id": "d3d0c328-0db1-4311-8c8a-b97fdf89f142",
   "metadata": {},
   "outputs": [],
   "source": [
    "# Predict the values of y using X.\n",
    "\n",
    "y_predicted = regression.predict(X_test)"
   ]
  },
  {
   "cell_type": "code",
   "execution_count": 39,
   "id": "6564f037-61ed-4370-a8f0-4ff699a82aff",
   "metadata": {},
   "outputs": [
    {
     "data": {
      "image/png": "[encoded data removed]",
      "text/plain": [
       "<Figure size 640x480 with 1 Axes>"
      ]
     },
     "metadata": {},
     "output_type": "display_data"
    }
   ],
   "source": [
    "# Create a plot that shows the regression line from the model on the test set.\n",
    "\n",
    "plot_test = plt\n",
    "plot_test.scatter(X_test, y_test, color='gray', s = 15)\n",
    "plot_test.plot(X_test, y_predicted, color='red', linewidth =3)\n",
    "plot_test.title('Base MSRP vs Electric Range (Test set)')\n",
    "plot_test.xlabel('Base MSRP')\n",
    "plot_test.ylabel('Range in Miles')\n",
    "plot_test.show() # here we have a positive relationship but not strong as data points are not near the line, as expected."
   ]
  },
  {
   "cell_type": "code",
   "execution_count": 41,
   "id": "6adba05b-d1fb-488e-8338-111f3473ea7c",
   "metadata": {},
   "outputs": [],
   "source": [
    "# Create objects that contain the model summary statistics.\n",
    "\n",
    "rmse = mean_squared_error(y_test, y_predicted) # This is the mean squared error\n",
    "r2 = r2_score(y_test, y_predicted) # This is the R2 score. "
   ]
  },
  {
   "cell_type": "code",
   "execution_count": 43,
   "id": "bc38976f-0830-4880-b6b4-3792f82aab83",
   "metadata": {},
   "outputs": [
    {
     "name": "stdout",
     "output_type": "stream",
     "text": [
      "Slope: [[0.00240683]]\n",
      "Mean squared error:  9590.072201583627\n",
      "R2 score:  0.00764010604054588\n"
     ]
    }
   ],
   "source": [
    "# Print the model summary statistics. This is where you evaluate the performance of the model.\n",
    "\n",
    "print('Slope:' ,regression.coef_)\n",
    "print('Mean squared error: ', rmse)\n",
    "print('R2 score: ', r2)"
   ]
  },
  {
   "cell_type": "code",
   "execution_count": 45,
   "id": "90684f1f-5aa6-46db-977a-f540ba041cd3",
   "metadata": {},
   "outputs": [
    {
     "data": {
      "text/plain": [
       "array([[113.9477074],\n",
       "       [113.9477074],\n",
       "       [113.9477074],\n",
       "       ...,\n",
       "       [113.9477074],\n",
       "       [113.9477074],\n",
       "       [113.9477074]])"
      ]
     },
     "execution_count": 45,
     "metadata": {},
     "output_type": "execute_result"
    }
   ],
   "source": [
    "y_predicted"
   ]
  },
  {
   "cell_type": "code",
   "execution_count": 47,
   "id": "71208b86-1417-4222-87a6-91651b857e02",
   "metadata": {},
   "outputs": [
    {
     "data": {
      "text/html": [
       "<div>\n",
       "<style scoped>\n",
       "    .dataframe tbody tr th:only-of-type {\n",
       "        vertical-align: middle;\n",
       "    }\n",
       "\n",
       "    .dataframe tbody tr th {\n",
       "        vertical-align: top;\n",
       "    }\n",
       "\n",
       "    .dataframe thead th {\n",
       "        text-align: right;\n",
       "    }\n",
       "</style>\n",
       "<table border=\"1\" class=\"dataframe\">\n",
       "  <thead>\n",
       "    <tr style=\"text-align: right;\">\n",
       "      <th></th>\n",
       "      <th>Actual</th>\n",
       "      <th>Predicted</th>\n",
       "    </tr>\n",
       "  </thead>\n",
       "  <tbody>\n",
       "    <tr>\n",
       "      <th>0</th>\n",
       "      <td>20.0</td>\n",
       "      <td>113.947707</td>\n",
       "    </tr>\n",
       "    <tr>\n",
       "      <th>1</th>\n",
       "      <td>238.0</td>\n",
       "      <td>113.947707</td>\n",
       "    </tr>\n",
       "    <tr>\n",
       "      <th>2</th>\n",
       "      <td>249.0</td>\n",
       "      <td>113.947707</td>\n",
       "    </tr>\n",
       "    <tr>\n",
       "      <th>3</th>\n",
       "      <td>33.0</td>\n",
       "      <td>113.947707</td>\n",
       "    </tr>\n",
       "    <tr>\n",
       "      <th>4</th>\n",
       "      <td>151.0</td>\n",
       "      <td>113.947707</td>\n",
       "    </tr>\n",
       "    <tr>\n",
       "      <th>5</th>\n",
       "      <td>215.0</td>\n",
       "      <td>113.947707</td>\n",
       "    </tr>\n",
       "    <tr>\n",
       "      <th>6</th>\n",
       "      <td>215.0</td>\n",
       "      <td>113.947707</td>\n",
       "    </tr>\n",
       "    <tr>\n",
       "      <th>7</th>\n",
       "      <td>23.0</td>\n",
       "      <td>113.947707</td>\n",
       "    </tr>\n",
       "    <tr>\n",
       "      <th>8</th>\n",
       "      <td>238.0</td>\n",
       "      <td>113.947707</td>\n",
       "    </tr>\n",
       "    <tr>\n",
       "      <th>9</th>\n",
       "      <td>239.0</td>\n",
       "      <td>113.947707</td>\n",
       "    </tr>\n",
       "    <tr>\n",
       "      <th>10</th>\n",
       "      <td>32.0</td>\n",
       "      <td>113.947707</td>\n",
       "    </tr>\n",
       "    <tr>\n",
       "      <th>11</th>\n",
       "      <td>75.0</td>\n",
       "      <td>113.947707</td>\n",
       "    </tr>\n",
       "    <tr>\n",
       "      <th>12</th>\n",
       "      <td>32.0</td>\n",
       "      <td>113.947707</td>\n",
       "    </tr>\n",
       "    <tr>\n",
       "      <th>13</th>\n",
       "      <td>13.0</td>\n",
       "      <td>113.947707</td>\n",
       "    </tr>\n",
       "    <tr>\n",
       "      <th>14</th>\n",
       "      <td>239.0</td>\n",
       "      <td>113.947707</td>\n",
       "    </tr>\n",
       "    <tr>\n",
       "      <th>15</th>\n",
       "      <td>151.0</td>\n",
       "      <td>113.947707</td>\n",
       "    </tr>\n",
       "    <tr>\n",
       "      <th>16</th>\n",
       "      <td>32.0</td>\n",
       "      <td>113.947707</td>\n",
       "    </tr>\n",
       "    <tr>\n",
       "      <th>17</th>\n",
       "      <td>25.0</td>\n",
       "      <td>113.947707</td>\n",
       "    </tr>\n",
       "    <tr>\n",
       "      <th>18</th>\n",
       "      <td>37.0</td>\n",
       "      <td>113.947707</td>\n",
       "    </tr>\n",
       "    <tr>\n",
       "      <th>19</th>\n",
       "      <td>14.0</td>\n",
       "      <td>113.947707</td>\n",
       "    </tr>\n",
       "    <tr>\n",
       "      <th>20</th>\n",
       "      <td>125.0</td>\n",
       "      <td>113.947707</td>\n",
       "    </tr>\n",
       "    <tr>\n",
       "      <th>21</th>\n",
       "      <td>84.0</td>\n",
       "      <td>113.947707</td>\n",
       "    </tr>\n",
       "    <tr>\n",
       "      <th>22</th>\n",
       "      <td>84.0</td>\n",
       "      <td>113.947707</td>\n",
       "    </tr>\n",
       "    <tr>\n",
       "      <th>23</th>\n",
       "      <td>14.0</td>\n",
       "      <td>113.947707</td>\n",
       "    </tr>\n",
       "    <tr>\n",
       "      <th>24</th>\n",
       "      <td>32.0</td>\n",
       "      <td>113.947707</td>\n",
       "    </tr>\n",
       "    <tr>\n",
       "      <th>25</th>\n",
       "      <td>12.0</td>\n",
       "      <td>65.241447</td>\n",
       "    </tr>\n",
       "    <tr>\n",
       "      <th>26</th>\n",
       "      <td>215.0</td>\n",
       "      <td>113.947707</td>\n",
       "    </tr>\n",
       "    <tr>\n",
       "      <th>27</th>\n",
       "      <td>204.0</td>\n",
       "      <td>113.947707</td>\n",
       "    </tr>\n",
       "    <tr>\n",
       "      <th>28</th>\n",
       "      <td>200.0</td>\n",
       "      <td>113.947707</td>\n",
       "    </tr>\n",
       "    <tr>\n",
       "      <th>29</th>\n",
       "      <td>25.0</td>\n",
       "      <td>113.947707</td>\n",
       "    </tr>\n",
       "  </tbody>\n",
       "</table>\n",
       "</div>"
      ],
      "text/plain": [
       "    Actual   Predicted\n",
       "0     20.0  113.947707\n",
       "1    238.0  113.947707\n",
       "2    249.0  113.947707\n",
       "3     33.0  113.947707\n",
       "4    151.0  113.947707\n",
       "5    215.0  113.947707\n",
       "6    215.0  113.947707\n",
       "7     23.0  113.947707\n",
       "8    238.0  113.947707\n",
       "9    239.0  113.947707\n",
       "10    32.0  113.947707\n",
       "11    75.0  113.947707\n",
       "12    32.0  113.947707\n",
       "13    13.0  113.947707\n",
       "14   239.0  113.947707\n",
       "15   151.0  113.947707\n",
       "16    32.0  113.947707\n",
       "17    25.0  113.947707\n",
       "18    37.0  113.947707\n",
       "19    14.0  113.947707\n",
       "20   125.0  113.947707\n",
       "21    84.0  113.947707\n",
       "22    84.0  113.947707\n",
       "23    14.0  113.947707\n",
       "24    32.0  113.947707\n",
       "25    12.0   65.241447\n",
       "26   215.0  113.947707\n",
       "27   204.0  113.947707\n",
       "28   200.0  113.947707\n",
       "29    25.0  113.947707"
      ]
     },
     "execution_count": 47,
     "metadata": {},
     "output_type": "execute_result"
    }
   ],
   "source": [
    "# Create a dataframe comparing the actual and predicted values of y.\n",
    "\n",
    "data = pd.DataFrame({'Actual': y_test.flatten(), 'Predicted': y_predicted.flatten()})\n",
    "data.head(30) # wild variations"
   ]
  },
  {
   "cell_type": "code",
   "execution_count": 49,
   "id": "dbbc13d2-8114-46df-8c1d-51f0b58644c9",
   "metadata": {},
   "outputs": [],
   "source": [
    "# Predict.\n",
    "\n",
    "y_predicted_train = regression.predict(X_train) # This is predicting X_train!"
   ]
  },
  {
   "cell_type": "code",
   "execution_count": 51,
   "id": "b815beba-3558-4e71-af94-42e0000c2418",
   "metadata": {},
   "outputs": [],
   "source": [
    "rmse = mean_squared_error(y_train, y_predicted_train)\n",
    "r2 = r2_score(y_train, y_predicted_train)"
   ]
  },
  {
   "cell_type": "code",
   "execution_count": 53,
   "id": "46ed613c-d26a-432a-be63-7a07ce5e0eae",
   "metadata": {},
   "outputs": [
    {
     "name": "stdout",
     "output_type": "stream",
     "text": [
      "Slope: [[0.00240683]]\n",
      "Mean squared error:  9633.829705720726\n",
      "R2 score:  0.007075306222205535\n"
     ]
    }
   ],
   "source": [
    "print('Slope:' ,regression.coef_)\n",
    "print('Mean squared error: ', rmse)\n",
    "print('R2 score: ', r2) # R value close to zero, very weak."
   ]
  },
  {
   "cell_type": "code",
   "execution_count": 55,
   "id": "9260f893-b800-496a-99d3-b7df2d6bff82",
   "metadata": {},
   "outputs": [
    {
     "data": {
      "image/png": "[encoded data removed]",
      "text/plain": [
       "<Figure size 640x480 with 1 Axes>"
      ]
     },
     "metadata": {},
     "output_type": "display_data"
    }
   ],
   "source": [
    "# Visualizing the training set results.\n",
    "\n",
    "plot_test = plt\n",
    "plot_test.scatter(X_train, y_train, color='green', s = 15)\n",
    "plot_test.plot(X_train, y_predicted_train, color='red', linewidth =3)\n",
    "plot_test.title('Base MSRP vs Electric Range (Train set)')\n",
    "plot_test.xlabel('Base MSRP')\n",
    "plot_test.ylabel('Range in Miles')\n",
    "plot_test.show()"
   ]
  },
  {
   "cell_type": "code",
   "execution_count": null,
   "id": "cb13d7b0-f38e-4f48-abdf-4ba6e3dd907c",
   "metadata": {},
   "outputs": [],
   "source": [
    "# No outliers to remove to test further. Model performed as expected given the excess imputed values which affect results. \n",
    "# Still lots of variation here. Not a strong correlation between BASE PRICE and Electric Range. \n",
    "# Looks like there is no point paying more than medium base range for your EV if you value going further on your battery. Look for another predictor of Electric Range: unfortunately no more is current dataset. "
   ]
  }
 ],
 "metadata": {
  "kernelspec": {
   "display_name": "Python [conda env:base] *",
   "language": "python",
   "name": "conda-base-py"
  },
  "language_info": {
   "codemirror_mode": {
    "name": "ipython",
    "version": 3
   },
   "file_extension": ".py",
   "mimetype": "text/x-python",
   "name": "python",
   "nbconvert_exporter": "python",
   "pygments_lexer": "ipython3",
   "version": "3.12.7"
  }
 },
 "nbformat": 4,
 "nbformat_minor": 5
}
